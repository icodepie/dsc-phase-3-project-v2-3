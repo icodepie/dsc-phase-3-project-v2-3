{
 "cells": [
  {
   "cell_type": "code",
   "execution_count": 2,
   "id": "4d684a1f",
   "metadata": {},
   "outputs": [
    {
     "name": "stderr",
     "output_type": "stream",
     "text": [
      "C:\\Users\\Kev\\anaconda3\\envs\\learn-env\\lib\\site-packages\\xgboost\\compat.py:36: FutureWarning: pandas.Int64Index is deprecated and will be removed from pandas in a future version. Use pandas.Index with the appropriate dtype instead.\n",
      "  from pandas import MultiIndex, Int64Index\n"
     ]
    }
   ],
   "source": [
    "#All used imports\n",
    "import pandas as pd\n",
    "import numpy as np\n",
    "from matplotlib import pyplot as plt\n",
    "import seaborn as sns\n",
    "from sklearn.model_selection import train_test_split, GridSearchCV, cross_val_score\n",
    "from sklearn.pipeline import Pipeline\n",
    "from sklearn.preprocessing import StandardScaler, OneHotEncoder, FunctionTransformer\n",
    "from sklearn.impute import SimpleImputer\n",
    "from sklearn.compose import ColumnTransformer,  make_column_selector as selector\n",
    "from sklearn.linear_model import LogisticRegression\n",
    "from sklearn.ensemble import RandomForestClassifier, GradientBoostingClassifier\n",
    "from sklearn.metrics import plot_confusion_matrix, recall_score,\\\n",
    "    accuracy_score, precision_score, f1_score\n",
    "from sklearn.neighbors import KNeighborsClassifier\n",
    "from sklearn.dummy import DummyClassifier\n",
    "from sklearn.tree import DecisionTreeClassifier\n",
    "from imblearn.over_sampling import SMOTE\n",
    "from imblearn.pipeline import Pipeline as ImPipeline\n",
    "import xgboost\n",
    "from sklearn.metrics import plot_roc_curve\n",
    "from imblearn.pipeline import Pipeline as ImPipeline\n",
    "from sklearn.model_selection import RandomizedSearchCV"
   ]
  },
  {
   "cell_type": "code",
   "execution_count": 3,
   "id": "dd59dc71",
   "metadata": {},
   "outputs": [],
   "source": [
    "#read in the data \n",
    "df = pd.read_csv('./data/customer.csv')"
   ]
  },
  {
   "cell_type": "markdown",
   "id": "3b4fbe6d",
   "metadata": {},
   "source": [
    "# EDA"
   ]
  },
  {
   "cell_type": "code",
   "execution_count": 4,
   "id": "079c72e8",
   "metadata": {
    "scrolled": false
   },
   "outputs": [
    {
     "name": "stdout",
     "output_type": "stream",
     "text": [
      "<class 'pandas.core.frame.DataFrame'>\n",
      "RangeIndex: 3333 entries, 0 to 3332\n",
      "Data columns (total 21 columns):\n",
      " #   Column                  Non-Null Count  Dtype  \n",
      "---  ------                  --------------  -----  \n",
      " 0   state                   3333 non-null   object \n",
      " 1   account length          3333 non-null   int64  \n",
      " 2   area code               3333 non-null   int64  \n",
      " 3   phone number            3333 non-null   object \n",
      " 4   international plan      3333 non-null   object \n",
      " 5   voice mail plan         3333 non-null   object \n",
      " 6   number vmail messages   3333 non-null   int64  \n",
      " 7   total day minutes       3333 non-null   float64\n",
      " 8   total day calls         3333 non-null   int64  \n",
      " 9   total day charge        3333 non-null   float64\n",
      " 10  total eve minutes       3333 non-null   float64\n",
      " 11  total eve calls         3333 non-null   int64  \n",
      " 12  total eve charge        3333 non-null   float64\n",
      " 13  total night minutes     3333 non-null   float64\n",
      " 14  total night calls       3333 non-null   int64  \n",
      " 15  total night charge      3333 non-null   float64\n",
      " 16  total intl minutes      3333 non-null   float64\n",
      " 17  total intl calls        3333 non-null   int64  \n",
      " 18  total intl charge       3333 non-null   float64\n",
      " 19  customer service calls  3333 non-null   int64  \n",
      " 20  churn                   3333 non-null   bool   \n",
      "dtypes: bool(1), float64(8), int64(8), object(4)\n",
      "memory usage: 524.2+ KB\n"
     ]
    }
   ],
   "source": [
    "df.info()"
   ]
  },
  {
   "cell_type": "code",
   "execution_count": 5,
   "id": "7b748d37",
   "metadata": {
    "scrolled": true
   },
   "outputs": [
    {
     "data": {
      "text/html": [
       "<div>\n",
       "<style scoped>\n",
       "    .dataframe tbody tr th:only-of-type {\n",
       "        vertical-align: middle;\n",
       "    }\n",
       "\n",
       "    .dataframe tbody tr th {\n",
       "        vertical-align: top;\n",
       "    }\n",
       "\n",
       "    .dataframe thead th {\n",
       "        text-align: right;\n",
       "    }\n",
       "</style>\n",
       "<table border=\"1\" class=\"dataframe\">\n",
       "  <thead>\n",
       "    <tr style=\"text-align: right;\">\n",
       "      <th></th>\n",
       "      <th>state</th>\n",
       "      <th>account length</th>\n",
       "      <th>area code</th>\n",
       "      <th>phone number</th>\n",
       "      <th>international plan</th>\n",
       "      <th>voice mail plan</th>\n",
       "      <th>number vmail messages</th>\n",
       "      <th>total day minutes</th>\n",
       "      <th>total day calls</th>\n",
       "      <th>total day charge</th>\n",
       "      <th>...</th>\n",
       "      <th>total eve calls</th>\n",
       "      <th>total eve charge</th>\n",
       "      <th>total night minutes</th>\n",
       "      <th>total night calls</th>\n",
       "      <th>total night charge</th>\n",
       "      <th>total intl minutes</th>\n",
       "      <th>total intl calls</th>\n",
       "      <th>total intl charge</th>\n",
       "      <th>customer service calls</th>\n",
       "      <th>churn</th>\n",
       "    </tr>\n",
       "  </thead>\n",
       "  <tbody>\n",
       "    <tr>\n",
       "      <th>0</th>\n",
       "      <td>KS</td>\n",
       "      <td>128</td>\n",
       "      <td>415</td>\n",
       "      <td>382-4657</td>\n",
       "      <td>no</td>\n",
       "      <td>yes</td>\n",
       "      <td>25</td>\n",
       "      <td>265.1</td>\n",
       "      <td>110</td>\n",
       "      <td>45.07</td>\n",
       "      <td>...</td>\n",
       "      <td>99</td>\n",
       "      <td>16.78</td>\n",
       "      <td>244.7</td>\n",
       "      <td>91</td>\n",
       "      <td>11.01</td>\n",
       "      <td>10.0</td>\n",
       "      <td>3</td>\n",
       "      <td>2.70</td>\n",
       "      <td>1</td>\n",
       "      <td>False</td>\n",
       "    </tr>\n",
       "    <tr>\n",
       "      <th>1</th>\n",
       "      <td>OH</td>\n",
       "      <td>107</td>\n",
       "      <td>415</td>\n",
       "      <td>371-7191</td>\n",
       "      <td>no</td>\n",
       "      <td>yes</td>\n",
       "      <td>26</td>\n",
       "      <td>161.6</td>\n",
       "      <td>123</td>\n",
       "      <td>27.47</td>\n",
       "      <td>...</td>\n",
       "      <td>103</td>\n",
       "      <td>16.62</td>\n",
       "      <td>254.4</td>\n",
       "      <td>103</td>\n",
       "      <td>11.45</td>\n",
       "      <td>13.7</td>\n",
       "      <td>3</td>\n",
       "      <td>3.70</td>\n",
       "      <td>1</td>\n",
       "      <td>False</td>\n",
       "    </tr>\n",
       "    <tr>\n",
       "      <th>2</th>\n",
       "      <td>NJ</td>\n",
       "      <td>137</td>\n",
       "      <td>415</td>\n",
       "      <td>358-1921</td>\n",
       "      <td>no</td>\n",
       "      <td>no</td>\n",
       "      <td>0</td>\n",
       "      <td>243.4</td>\n",
       "      <td>114</td>\n",
       "      <td>41.38</td>\n",
       "      <td>...</td>\n",
       "      <td>110</td>\n",
       "      <td>10.30</td>\n",
       "      <td>162.6</td>\n",
       "      <td>104</td>\n",
       "      <td>7.32</td>\n",
       "      <td>12.2</td>\n",
       "      <td>5</td>\n",
       "      <td>3.29</td>\n",
       "      <td>0</td>\n",
       "      <td>False</td>\n",
       "    </tr>\n",
       "    <tr>\n",
       "      <th>3</th>\n",
       "      <td>OH</td>\n",
       "      <td>84</td>\n",
       "      <td>408</td>\n",
       "      <td>375-9999</td>\n",
       "      <td>yes</td>\n",
       "      <td>no</td>\n",
       "      <td>0</td>\n",
       "      <td>299.4</td>\n",
       "      <td>71</td>\n",
       "      <td>50.90</td>\n",
       "      <td>...</td>\n",
       "      <td>88</td>\n",
       "      <td>5.26</td>\n",
       "      <td>196.9</td>\n",
       "      <td>89</td>\n",
       "      <td>8.86</td>\n",
       "      <td>6.6</td>\n",
       "      <td>7</td>\n",
       "      <td>1.78</td>\n",
       "      <td>2</td>\n",
       "      <td>False</td>\n",
       "    </tr>\n",
       "    <tr>\n",
       "      <th>4</th>\n",
       "      <td>OK</td>\n",
       "      <td>75</td>\n",
       "      <td>415</td>\n",
       "      <td>330-6626</td>\n",
       "      <td>yes</td>\n",
       "      <td>no</td>\n",
       "      <td>0</td>\n",
       "      <td>166.7</td>\n",
       "      <td>113</td>\n",
       "      <td>28.34</td>\n",
       "      <td>...</td>\n",
       "      <td>122</td>\n",
       "      <td>12.61</td>\n",
       "      <td>186.9</td>\n",
       "      <td>121</td>\n",
       "      <td>8.41</td>\n",
       "      <td>10.1</td>\n",
       "      <td>3</td>\n",
       "      <td>2.73</td>\n",
       "      <td>3</td>\n",
       "      <td>False</td>\n",
       "    </tr>\n",
       "  </tbody>\n",
       "</table>\n",
       "<p>5 rows × 21 columns</p>\n",
       "</div>"
      ],
      "text/plain": [
       "  state  account length  area code phone number international plan  \\\n",
       "0    KS             128        415     382-4657                 no   \n",
       "1    OH             107        415     371-7191                 no   \n",
       "2    NJ             137        415     358-1921                 no   \n",
       "3    OH              84        408     375-9999                yes   \n",
       "4    OK              75        415     330-6626                yes   \n",
       "\n",
       "  voice mail plan  number vmail messages  total day minutes  total day calls  \\\n",
       "0             yes                     25              265.1              110   \n",
       "1             yes                     26              161.6              123   \n",
       "2              no                      0              243.4              114   \n",
       "3              no                      0              299.4               71   \n",
       "4              no                      0              166.7              113   \n",
       "\n",
       "   total day charge  ...  total eve calls  total eve charge  \\\n",
       "0             45.07  ...               99             16.78   \n",
       "1             27.47  ...              103             16.62   \n",
       "2             41.38  ...              110             10.30   \n",
       "3             50.90  ...               88              5.26   \n",
       "4             28.34  ...              122             12.61   \n",
       "\n",
       "   total night minutes  total night calls  total night charge  \\\n",
       "0                244.7                 91               11.01   \n",
       "1                254.4                103               11.45   \n",
       "2                162.6                104                7.32   \n",
       "3                196.9                 89                8.86   \n",
       "4                186.9                121                8.41   \n",
       "\n",
       "   total intl minutes  total intl calls  total intl charge  \\\n",
       "0                10.0                 3               2.70   \n",
       "1                13.7                 3               3.70   \n",
       "2                12.2                 5               3.29   \n",
       "3                 6.6                 7               1.78   \n",
       "4                10.1                 3               2.73   \n",
       "\n",
       "   customer service calls  churn  \n",
       "0                       1  False  \n",
       "1                       1  False  \n",
       "2                       0  False  \n",
       "3                       2  False  \n",
       "4                       3  False  \n",
       "\n",
       "[5 rows x 21 columns]"
      ]
     },
     "execution_count": 5,
     "metadata": {},
     "output_type": "execute_result"
    }
   ],
   "source": [
    "df.head()"
   ]
  },
  {
   "cell_type": "code",
   "execution_count": 6,
   "id": "869404f3",
   "metadata": {},
   "outputs": [],
   "source": [
    "#replacing space in column names with _\n",
    "df.columns = df.columns.str.replace(' ','_')"
   ]
  },
  {
   "cell_type": "code",
   "execution_count": 7,
   "id": "208b35e3",
   "metadata": {
    "scrolled": true
   },
   "outputs": [
    {
     "name": "stdout",
     "output_type": "stream",
     "text": [
      "<class 'pandas.core.frame.DataFrame'>\n",
      "RangeIndex: 3333 entries, 0 to 3332\n",
      "Data columns (total 21 columns):\n",
      " #   Column                  Non-Null Count  Dtype  \n",
      "---  ------                  --------------  -----  \n",
      " 0   state                   3333 non-null   object \n",
      " 1   account_length          3333 non-null   int64  \n",
      " 2   area_code               3333 non-null   int64  \n",
      " 3   phone_number            3333 non-null   object \n",
      " 4   international_plan      3333 non-null   object \n",
      " 5   voice_mail_plan         3333 non-null   object \n",
      " 6   number_vmail_messages   3333 non-null   int64  \n",
      " 7   total_day_minutes       3333 non-null   float64\n",
      " 8   total_day_calls         3333 non-null   int64  \n",
      " 9   total_day_charge        3333 non-null   float64\n",
      " 10  total_eve_minutes       3333 non-null   float64\n",
      " 11  total_eve_calls         3333 non-null   int64  \n",
      " 12  total_eve_charge        3333 non-null   float64\n",
      " 13  total_night_minutes     3333 non-null   float64\n",
      " 14  total_night_calls       3333 non-null   int64  \n",
      " 15  total_night_charge      3333 non-null   float64\n",
      " 16  total_intl_minutes      3333 non-null   float64\n",
      " 17  total_intl_calls        3333 non-null   int64  \n",
      " 18  total_intl_charge       3333 non-null   float64\n",
      " 19  customer_service_calls  3333 non-null   int64  \n",
      " 20  churn                   3333 non-null   bool   \n",
      "dtypes: bool(1), float64(8), int64(8), object(4)\n",
      "memory usage: 524.2+ KB\n"
     ]
    }
   ],
   "source": [
    "df.info()"
   ]
  },
  {
   "cell_type": "code",
   "execution_count": 8,
   "id": "2087a796",
   "metadata": {},
   "outputs": [],
   "source": [
    "#defined X features and y target\n",
    "X = df.drop(['phone_number','churn','area_code','state'], axis=1)\n",
    "y = df['churn']\n",
    "\n",
    "X_train, X_test, y_train, y_test = train_test_split(X, y, random_state=42,test_size=.2)"
   ]
  },
  {
   "cell_type": "code",
   "execution_count": 9,
   "id": "57aac646",
   "metadata": {
    "scrolled": true
   },
   "outputs": [
    {
     "name": "stdout",
     "output_type": "stream",
     "text": [
      "<class 'pandas.core.frame.DataFrame'>\n",
      "RangeIndex: 3333 entries, 0 to 3332\n",
      "Data columns (total 17 columns):\n",
      " #   Column                  Non-Null Count  Dtype  \n",
      "---  ------                  --------------  -----  \n",
      " 0   account_length          3333 non-null   int64  \n",
      " 1   international_plan      3333 non-null   object \n",
      " 2   voice_mail_plan         3333 non-null   object \n",
      " 3   number_vmail_messages   3333 non-null   int64  \n",
      " 4   total_day_minutes       3333 non-null   float64\n",
      " 5   total_day_calls         3333 non-null   int64  \n",
      " 6   total_day_charge        3333 non-null   float64\n",
      " 7   total_eve_minutes       3333 non-null   float64\n",
      " 8   total_eve_calls         3333 non-null   int64  \n",
      " 9   total_eve_charge        3333 non-null   float64\n",
      " 10  total_night_minutes     3333 non-null   float64\n",
      " 11  total_night_calls       3333 non-null   int64  \n",
      " 12  total_night_charge      3333 non-null   float64\n",
      " 13  total_intl_minutes      3333 non-null   float64\n",
      " 14  total_intl_calls        3333 non-null   int64  \n",
      " 15  total_intl_charge       3333 non-null   float64\n",
      " 16  customer_service_calls  3333 non-null   int64  \n",
      "dtypes: float64(8), int64(7), object(2)\n",
      "memory usage: 442.8+ KB\n"
     ]
    }
   ],
   "source": [
    "X.info()"
   ]
  },
  {
   "cell_type": "code",
   "execution_count": 10,
   "id": "32633f7f",
   "metadata": {},
   "outputs": [
    {
     "name": "stdout",
     "output_type": "stream",
     "text": [
      "(2666, 17) (667, 17)\n"
     ]
    }
   ],
   "source": [
    "print(X_train.shape, X_test.shape)"
   ]
  },
  {
   "cell_type": "code",
   "execution_count": 11,
   "id": "f9ef648e",
   "metadata": {
    "scrolled": true
   },
   "outputs": [
    {
     "data": {
      "text/plain": [
       "False    2850\n",
       "True      483\n",
       "Name: churn, dtype: int64"
      ]
     },
     "execution_count": 11,
     "metadata": {},
     "output_type": "execute_result"
    }
   ],
   "source": [
    "#check on the spread of target\n",
    "y.value_counts()"
   ]
  },
  {
   "cell_type": "code",
   "execution_count": 24,
   "id": "c6bf701b",
   "metadata": {
    "scrolled": false
   },
   "outputs": [
    {
     "data": {
      "text/html": [
       "<div>\n",
       "<style scoped>\n",
       "    .dataframe tbody tr th:only-of-type {\n",
       "        vertical-align: middle;\n",
       "    }\n",
       "\n",
       "    .dataframe tbody tr th {\n",
       "        vertical-align: top;\n",
       "    }\n",
       "\n",
       "    .dataframe thead th {\n",
       "        text-align: right;\n",
       "    }\n",
       "</style>\n",
       "<table border=\"1\" class=\"dataframe\">\n",
       "  <thead>\n",
       "    <tr style=\"text-align: right;\">\n",
       "      <th></th>\n",
       "      <th>state</th>\n",
       "      <th>account_length</th>\n",
       "      <th>area_code</th>\n",
       "      <th>phone_number</th>\n",
       "      <th>international_plan</th>\n",
       "      <th>voice_mail_plan</th>\n",
       "      <th>number_vmail_messages</th>\n",
       "      <th>total_day_minutes</th>\n",
       "      <th>total_day_calls</th>\n",
       "      <th>total_day_charge</th>\n",
       "      <th>...</th>\n",
       "      <th>total_eve_charge</th>\n",
       "      <th>total_night_minutes</th>\n",
       "      <th>total_night_calls</th>\n",
       "      <th>total_night_charge</th>\n",
       "      <th>total_intl_minutes</th>\n",
       "      <th>total_intl_calls</th>\n",
       "      <th>total_intl_charge</th>\n",
       "      <th>customer_service_calls</th>\n",
       "      <th>churn</th>\n",
       "      <th>total_charged</th>\n",
       "    </tr>\n",
       "  </thead>\n",
       "  <tbody>\n",
       "    <tr>\n",
       "      <th>0</th>\n",
       "      <td>KS</td>\n",
       "      <td>128</td>\n",
       "      <td>415</td>\n",
       "      <td>382-4657</td>\n",
       "      <td>no</td>\n",
       "      <td>yes</td>\n",
       "      <td>25</td>\n",
       "      <td>265.1</td>\n",
       "      <td>110</td>\n",
       "      <td>45.07</td>\n",
       "      <td>...</td>\n",
       "      <td>16.78</td>\n",
       "      <td>244.7</td>\n",
       "      <td>91</td>\n",
       "      <td>11.01</td>\n",
       "      <td>10.0</td>\n",
       "      <td>3</td>\n",
       "      <td>2.70</td>\n",
       "      <td>1</td>\n",
       "      <td>False</td>\n",
       "      <td>75.56</td>\n",
       "    </tr>\n",
       "    <tr>\n",
       "      <th>1</th>\n",
       "      <td>OH</td>\n",
       "      <td>107</td>\n",
       "      <td>415</td>\n",
       "      <td>371-7191</td>\n",
       "      <td>no</td>\n",
       "      <td>yes</td>\n",
       "      <td>26</td>\n",
       "      <td>161.6</td>\n",
       "      <td>123</td>\n",
       "      <td>27.47</td>\n",
       "      <td>...</td>\n",
       "      <td>16.62</td>\n",
       "      <td>254.4</td>\n",
       "      <td>103</td>\n",
       "      <td>11.45</td>\n",
       "      <td>13.7</td>\n",
       "      <td>3</td>\n",
       "      <td>3.70</td>\n",
       "      <td>1</td>\n",
       "      <td>False</td>\n",
       "      <td>59.24</td>\n",
       "    </tr>\n",
       "    <tr>\n",
       "      <th>2</th>\n",
       "      <td>NJ</td>\n",
       "      <td>137</td>\n",
       "      <td>415</td>\n",
       "      <td>358-1921</td>\n",
       "      <td>no</td>\n",
       "      <td>no</td>\n",
       "      <td>0</td>\n",
       "      <td>243.4</td>\n",
       "      <td>114</td>\n",
       "      <td>41.38</td>\n",
       "      <td>...</td>\n",
       "      <td>10.30</td>\n",
       "      <td>162.6</td>\n",
       "      <td>104</td>\n",
       "      <td>7.32</td>\n",
       "      <td>12.2</td>\n",
       "      <td>5</td>\n",
       "      <td>3.29</td>\n",
       "      <td>0</td>\n",
       "      <td>False</td>\n",
       "      <td>62.29</td>\n",
       "    </tr>\n",
       "    <tr>\n",
       "      <th>3</th>\n",
       "      <td>OH</td>\n",
       "      <td>84</td>\n",
       "      <td>408</td>\n",
       "      <td>375-9999</td>\n",
       "      <td>yes</td>\n",
       "      <td>no</td>\n",
       "      <td>0</td>\n",
       "      <td>299.4</td>\n",
       "      <td>71</td>\n",
       "      <td>50.90</td>\n",
       "      <td>...</td>\n",
       "      <td>5.26</td>\n",
       "      <td>196.9</td>\n",
       "      <td>89</td>\n",
       "      <td>8.86</td>\n",
       "      <td>6.6</td>\n",
       "      <td>7</td>\n",
       "      <td>1.78</td>\n",
       "      <td>2</td>\n",
       "      <td>False</td>\n",
       "      <td>66.80</td>\n",
       "    </tr>\n",
       "    <tr>\n",
       "      <th>4</th>\n",
       "      <td>OK</td>\n",
       "      <td>75</td>\n",
       "      <td>415</td>\n",
       "      <td>330-6626</td>\n",
       "      <td>yes</td>\n",
       "      <td>no</td>\n",
       "      <td>0</td>\n",
       "      <td>166.7</td>\n",
       "      <td>113</td>\n",
       "      <td>28.34</td>\n",
       "      <td>...</td>\n",
       "      <td>12.61</td>\n",
       "      <td>186.9</td>\n",
       "      <td>121</td>\n",
       "      <td>8.41</td>\n",
       "      <td>10.1</td>\n",
       "      <td>3</td>\n",
       "      <td>2.73</td>\n",
       "      <td>3</td>\n",
       "      <td>False</td>\n",
       "      <td>52.09</td>\n",
       "    </tr>\n",
       "  </tbody>\n",
       "</table>\n",
       "<p>5 rows × 22 columns</p>\n",
       "</div>"
      ],
      "text/plain": [
       "  state  account_length  area_code phone_number international_plan  \\\n",
       "0    KS             128        415     382-4657                 no   \n",
       "1    OH             107        415     371-7191                 no   \n",
       "2    NJ             137        415     358-1921                 no   \n",
       "3    OH              84        408     375-9999                yes   \n",
       "4    OK              75        415     330-6626                yes   \n",
       "\n",
       "  voice_mail_plan  number_vmail_messages  total_day_minutes  total_day_calls  \\\n",
       "0             yes                     25              265.1              110   \n",
       "1             yes                     26              161.6              123   \n",
       "2              no                      0              243.4              114   \n",
       "3              no                      0              299.4               71   \n",
       "4              no                      0              166.7              113   \n",
       "\n",
       "   total_day_charge  ...  total_eve_charge  total_night_minutes  \\\n",
       "0             45.07  ...             16.78                244.7   \n",
       "1             27.47  ...             16.62                254.4   \n",
       "2             41.38  ...             10.30                162.6   \n",
       "3             50.90  ...              5.26                196.9   \n",
       "4             28.34  ...             12.61                186.9   \n",
       "\n",
       "   total_night_calls  total_night_charge  total_intl_minutes  \\\n",
       "0                 91               11.01                10.0   \n",
       "1                103               11.45                13.7   \n",
       "2                104                7.32                12.2   \n",
       "3                 89                8.86                 6.6   \n",
       "4                121                8.41                10.1   \n",
       "\n",
       "   total_intl_calls  total_intl_charge  customer_service_calls  churn  \\\n",
       "0                 3               2.70                       1  False   \n",
       "1                 3               3.70                       1  False   \n",
       "2                 5               3.29                       0  False   \n",
       "3                 7               1.78                       2  False   \n",
       "4                 3               2.73                       3  False   \n",
       "\n",
       "   total_charged  \n",
       "0          75.56  \n",
       "1          59.24  \n",
       "2          62.29  \n",
       "3          66.80  \n",
       "4          52.09  \n",
       "\n",
       "[5 rows x 22 columns]"
      ]
     },
     "execution_count": 24,
     "metadata": {},
     "output_type": "execute_result"
    }
   ],
   "source": [
    "#column of all charges\n",
    "column_names = ['total_day_charge', 'total_eve_charge', 'total_night_charge', 'total_intl_charge']\n",
    "df['total_charged'] = df[column_names].sum(axis=1)\n",
    "df.head()"
   ]
  },
  {
   "cell_type": "code",
   "execution_count": 44,
   "id": "a7e64a26",
   "metadata": {},
   "outputs": [
    {
     "data": {
      "text/plain": [
       "198146.03"
      ]
     },
     "execution_count": 44,
     "metadata": {},
     "output_type": "execute_result"
    }
   ],
   "source": [
    "#sum of all the charges \n",
    "df['total_charged'].sum()"
   ]
  },
  {
   "cell_type": "code",
   "execution_count": 45,
   "id": "53b6e1ef",
   "metadata": {},
   "outputs": [],
   "source": [
    "#filter for only true churns\n",
    "df_churn = df[df['churn'] == True]"
   ]
  },
  {
   "cell_type": "code",
   "execution_count": 46,
   "id": "b1cfd287",
   "metadata": {},
   "outputs": [],
   "source": [
    "#total amount of churns with no voicemail\n",
    "df_churn_vm = df_churn[df_churn['voice_mail_plan'] == 'no']"
   ]
  },
  {
   "cell_type": "code",
   "execution_count": 47,
   "id": "3097ce20",
   "metadata": {},
   "outputs": [
    {
     "name": "stdout",
     "output_type": "stream",
     "text": [
      "<class 'pandas.core.frame.DataFrame'>\n",
      "Int64Index: 403 entries, 10 to 3323\n",
      "Data columns (total 22 columns):\n",
      " #   Column                  Non-Null Count  Dtype  \n",
      "---  ------                  --------------  -----  \n",
      " 0   state                   403 non-null    object \n",
      " 1   account_length          403 non-null    int64  \n",
      " 2   area_code               403 non-null    int64  \n",
      " 3   phone_number            403 non-null    object \n",
      " 4   international_plan      403 non-null    object \n",
      " 5   voice_mail_plan         403 non-null    object \n",
      " 6   number_vmail_messages   403 non-null    int64  \n",
      " 7   total_day_minutes       403 non-null    float64\n",
      " 8   total_day_calls         403 non-null    int64  \n",
      " 9   total_day_charge        403 non-null    float64\n",
      " 10  total_eve_minutes       403 non-null    float64\n",
      " 11  total_eve_calls         403 non-null    int64  \n",
      " 12  total_eve_charge        403 non-null    float64\n",
      " 13  total_night_minutes     403 non-null    float64\n",
      " 14  total_night_calls       403 non-null    int64  \n",
      " 15  total_night_charge      403 non-null    float64\n",
      " 16  total_intl_minutes      403 non-null    float64\n",
      " 17  total_intl_calls        403 non-null    int64  \n",
      " 18  total_intl_charge       403 non-null    float64\n",
      " 19  customer_service_calls  403 non-null    int64  \n",
      " 20  churn                   403 non-null    bool   \n",
      " 21  total_charged           403 non-null    float64\n",
      "dtypes: bool(1), float64(9), int64(8), object(4)\n",
      "memory usage: 69.7+ KB\n"
     ]
    }
   ],
   "source": [
    "df_churn_vm.info()"
   ]
  },
  {
   "cell_type": "code",
   "execution_count": 48,
   "id": "6508abad",
   "metadata": {},
   "outputs": [
    {
     "data": {
      "text/plain": [
       "31566.93"
      ]
     },
     "execution_count": 48,
     "metadata": {},
     "output_type": "execute_result"
    }
   ],
   "source": [
    "#total amount of churned customer revenue\n",
    "df_churn['total_charged'].sum()"
   ]
  },
  {
   "cell_type": "code",
   "execution_count": 49,
   "id": "9ac4f4e1",
   "metadata": {},
   "outputs": [],
   "source": [
    "#subpipes that scale numeric data and use one hot encoder on categorical \n",
    "subpipe_num = Pipeline(steps=[\n",
    "    \n",
    "    ('ss', StandardScaler())\n",
    "])\n",
    "\n",
    "\n",
    "subpipe_cat = Pipeline(steps=[\n",
    "    \n",
    "    ('ohe', OneHotEncoder(sparse=False, handle_unknown='ignore'))\n",
    "])"
   ]
  },
  {
   "cell_type": "code",
   "execution_count": 50,
   "id": "9a32bd38",
   "metadata": {},
   "outputs": [],
   "source": [
    "#Create a column transformer to apply the subpipes and transform the data\n",
    "CT = ColumnTransformer(transformers=[\n",
    "    ('subpipe_num', subpipe_num, selector(dtype_include=np.number)),\n",
    "     ('subpipe_cat', subpipe_cat, selector(dtype_include=object))], remainder='passthrough')\n"
   ]
  },
  {
   "cell_type": "code",
   "execution_count": 51,
   "id": "cdb911d0",
   "metadata": {},
   "outputs": [],
   "source": [
    "#Use modelwithcv function to get cross val scores\n",
    "class ModelWithCV():\n",
    "    '''Structure to save the model and more easily see its crossvalidation'''\n",
    "    \n",
    "    def __init__(self, model, model_name, X, y, cv_now=True):\n",
    "        self.model = model\n",
    "        self.name = model_name\n",
    "        self.X = X\n",
    "        self.y = y\n",
    "        # For CV results\n",
    "        self.cv_results = None\n",
    "        self.cv_mean = None\n",
    "        self.cv_median = None\n",
    "        self.cv_std = None\n",
    "        #\n",
    "        if cv_now:\n",
    "            self.cross_validate()\n",
    "        \n",
    "    def cross_validate(self, X=None, y=None, kfolds=10):\n",
    "        '''\n",
    "        Perform cross-validation and return results.\n",
    "        \n",
    "        Args: \n",
    "          X:\n",
    "            Optional; Training data to perform CV on. Otherwise use X from object\n",
    "          y:\n",
    "            Optional; Training data to perform CV on. Otherwise use y from object\n",
    "          kfolds:\n",
    "            Optional; Number of folds for CV (default is 10)  \n",
    "        '''\n",
    "        \n",
    "        cv_X = X if X else self.X\n",
    "        cv_y = y if y else self.y\n",
    "\n",
    "        self.cv_results = cross_val_score(self.model, cv_X, cv_y, cv=kfolds)\n",
    "        self.cv_mean = np.mean(self.cv_results)\n",
    "        self.cv_median = np.median(self.cv_results)\n",
    "        self.cv_std = np.std(self.cv_results)\n",
    "\n",
    "        \n",
    "    def print_cv_summary(self):\n",
    "        cv_summary = (\n",
    "        f'''CV Results for `{self.name}` model:\n",
    "            {self.cv_mean:.5f} ± {self.cv_std:.5f} accuracy\n",
    "        ''')\n",
    "        print(cv_summary)\n",
    "\n",
    "        \n",
    "    def plot_cv(self, ax):\n",
    "        '''\n",
    "        Plot the cross-validation values using the array of results and given \n",
    "        Axis for plotting.\n",
    "        '''\n",
    "        ax.set_title(f'CV Results for `{self.name}` Model')\n",
    "        # Thinner violinplot with higher bw\n",
    "        sns.violinplot(y=self.cv_results, ax=ax, bw=.4)\n",
    "        sns.swarmplot(\n",
    "                y=self.cv_results,\n",
    "                color='orange',\n",
    "                size=10,\n",
    "                alpha= 0.8,\n",
    "                ax=ax\n",
    "        )\n",
    "\n",
    "        return ax"
   ]
  },
  {
   "cell_type": "markdown",
   "id": "b3347a4c",
   "metadata": {},
   "source": [
    "# Baseline Dummy Model"
   ]
  },
  {
   "cell_type": "code",
   "execution_count": 52,
   "id": "9a5f2fab",
   "metadata": {},
   "outputs": [],
   "source": [
    "#Create a pipeline for dummy model using most_freq strategy\n",
    "dummy_model_pipe = Pipeline(steps=[\n",
    "    ('ct', CT),\n",
    "    ('dum', DummyClassifier(strategy='most_frequent'))\n",
    "])"
   ]
  },
  {
   "cell_type": "code",
   "execution_count": 53,
   "id": "8df4d6fe",
   "metadata": {
    "scrolled": true
   },
   "outputs": [
    {
     "name": "stdout",
     "output_type": "stream",
     "text": [
      "CV Results for `dummy_model` model:\n",
      "            0.85671 ± 0.00141 accuracy\n",
      "        \n"
     ]
    }
   ],
   "source": [
    "#print cv summary since target is imbalanced it results in a high accuracy score \n",
    "dummy_pipe_results = ModelWithCV(dummy_model_pipe, 'dummy_model', X_train, y_train)\n",
    "dummy_pipe_results.print_cv_summary()"
   ]
  },
  {
   "cell_type": "markdown",
   "id": "31697783",
   "metadata": {},
   "source": [
    "# Three simple models"
   ]
  },
  {
   "cell_type": "code",
   "execution_count": 54,
   "id": "8710d3f5",
   "metadata": {},
   "outputs": [],
   "source": [
    "#pipelines for logreg,knn,decisiontree\n",
    "logreg_model_pipe = Pipeline(steps=[('CT', CT), \n",
    "                              ('logreg', LogisticRegression(random_state=42))])\n",
    "\n",
    "knn_model_pipe = Pipeline(steps=[('CT', CT), \n",
    "                           ('knn', KNeighborsClassifier())])\n",
    "\n",
    "rfc_model_pipe = Pipeline([('CT',CT),('rfc',RandomForestClassifier(random_state=42))])\n"
   ]
  },
  {
   "cell_type": "code",
   "execution_count": 55,
   "id": "49e54726",
   "metadata": {
    "scrolled": false
   },
   "outputs": [
    {
     "data": {
      "text/plain": [
       "Pipeline(steps=[('CT',\n",
       "                 ColumnTransformer(remainder='passthrough',\n",
       "                                   transformers=[('subpipe_num',\n",
       "                                                  Pipeline(steps=[('ss',\n",
       "                                                                   StandardScaler())]),\n",
       "                                                  <sklearn.compose._column_transformer.make_column_selector object at 0x0000022E08D503D0>),\n",
       "                                                 ('subpipe_cat',\n",
       "                                                  Pipeline(steps=[('ohe',\n",
       "                                                                   OneHotEncoder(handle_unknown='ignore',\n",
       "                                                                                 sparse=False))]),\n",
       "                                                  <sklearn.compose._column_transformer.make_column_selector object at 0x0000022E08D50040>)])),\n",
       "                ('rfc', RandomForestClassifier(random_state=42))])"
      ]
     },
     "execution_count": 55,
     "metadata": {},
     "output_type": "execute_result"
    }
   ],
   "source": [
    "# Fit each pipeline\n",
    "logreg_model_pipe.fit(X_train, y_train)\n",
    "knn_model_pipe.fit(X_train, y_train)\n",
    "rfc_model_pipe.fit(X_train, y_train)"
   ]
  },
  {
   "cell_type": "markdown",
   "id": "dc2400de",
   "metadata": {},
   "source": [
    "# Simple log model score and validation score comparison"
   ]
  },
  {
   "cell_type": "code",
   "execution_count": 56,
   "id": "a197b2ec",
   "metadata": {},
   "outputs": [
    {
     "data": {
      "text/plain": [
       "0.8649662415603901"
      ]
     },
     "execution_count": 56,
     "metadata": {},
     "output_type": "execute_result"
    }
   ],
   "source": [
    "#First simple model score\n",
    "logreg_model_pipe.score(X_train,y_train)"
   ]
  },
  {
   "cell_type": "code",
   "execution_count": 57,
   "id": "e2f8a3f9",
   "metadata": {
    "scrolled": true
   },
   "outputs": [
    {
     "name": "stdout",
     "output_type": "stream",
     "text": [
      "CV Results for `logreg_model` model:\n",
      "            0.86083 ± 0.00923 accuracy\n",
      "        \n"
     ]
    }
   ],
   "source": [
    "logreg_pipe_results = ModelWithCV(logreg_model_pipe, 'logreg_model', X_train, y_train)\n",
    "logreg_pipe_results.print_cv_summary()"
   ]
  },
  {
   "cell_type": "markdown",
   "id": "46e1c794",
   "metadata": {},
   "source": [
    "Log model is fit well for using default parameters"
   ]
  },
  {
   "cell_type": "markdown",
   "id": "30161ebe",
   "metadata": {},
   "source": [
    "# Simple knn model score and validation score comparison"
   ]
  },
  {
   "cell_type": "code",
   "execution_count": 58,
   "id": "027ff454",
   "metadata": {},
   "outputs": [
    {
     "data": {
      "text/plain": [
       "0.9096024006001501"
      ]
     },
     "execution_count": 58,
     "metadata": {},
     "output_type": "execute_result"
    }
   ],
   "source": [
    "knn_model_pipe.score(X_train,y_train)"
   ]
  },
  {
   "cell_type": "code",
   "execution_count": 59,
   "id": "097d9682",
   "metadata": {},
   "outputs": [
    {
     "name": "stdout",
     "output_type": "stream",
     "text": [
      "CV Results for `knn_model` model:\n",
      "            0.88859 ± 0.00827 accuracy\n",
      "        \n"
     ]
    }
   ],
   "source": [
    "knn_pipe_results = ModelWithCV(knn_model_pipe, 'knn_model', X_train, y_train)\n",
    "knn_pipe_results.print_cv_summary()"
   ]
  },
  {
   "cell_type": "markdown",
   "id": "22759d66",
   "metadata": {},
   "source": [
    "Knn simple model is slightly overfit but still performs well with default parameters"
   ]
  },
  {
   "cell_type": "markdown",
   "id": "d01a5fdf",
   "metadata": {},
   "source": [
    "# Simple rfc model score and validation score comparison"
   ]
  },
  {
   "cell_type": "code",
   "execution_count": 60,
   "id": "44f3e9e8",
   "metadata": {},
   "outputs": [
    {
     "data": {
      "text/plain": [
       "1.0"
      ]
     },
     "execution_count": 60,
     "metadata": {},
     "output_type": "execute_result"
    }
   ],
   "source": [
    "rfc_model_pipe.score(X_train,y_train)"
   ]
  },
  {
   "cell_type": "code",
   "execution_count": 61,
   "id": "ab8aa5d6",
   "metadata": {
    "scrolled": false
   },
   "outputs": [
    {
     "name": "stdout",
     "output_type": "stream",
     "text": [
      "CV Results for `rfc_model` model:\n",
      "            0.95574 ± 0.00881 accuracy\n",
      "        \n"
     ]
    }
   ],
   "source": [
    "rfc_pipe_results = ModelWithCV(rfc_model_pipe, 'rfc_model', X_train, y_train)\n",
    "rfc_pipe_results.print_cv_summary()"
   ]
  },
  {
   "cell_type": "markdown",
   "id": "38b18bae",
   "metadata": {},
   "source": [
    "Random forest simple model is overfit which is to be expected with default parameters requires tuning"
   ]
  },
  {
   "cell_type": "markdown",
   "id": "84452633",
   "metadata": {},
   "source": [
    "# SMOTE THE IMBALANCED TARGETS"
   ]
  },
  {
   "cell_type": "code",
   "execution_count": 62,
   "id": "e84f949a",
   "metadata": {},
   "outputs": [],
   "source": [
    "#pipelines for logreg,knn,decisiontree\n",
    "imblog_model_pipe = ImPipeline(steps=[('CT', CT),('sm',SMOTE(random_state=42)),\n",
    "                              ('logreg', LogisticRegression(random_state=42))])\n",
    "\n",
    "imbknn_model_pipe = ImPipeline(steps=[('CT', CT),('sm',SMOTE(random_state=42)), \n",
    "                           ('knn', KNeighborsClassifier())])\n",
    "\n",
    "imbrfc_model_pipe = ImPipeline([('CT',CT),('sm',SMOTE(random_state=42)),('rfc',RandomForestClassifier(random_state=42))])"
   ]
  },
  {
   "cell_type": "code",
   "execution_count": 63,
   "id": "22e20f68",
   "metadata": {
    "scrolled": false
   },
   "outputs": [
    {
     "data": {
      "text/plain": [
       "Pipeline(steps=[('CT',\n",
       "                 ColumnTransformer(remainder='passthrough',\n",
       "                                   transformers=[('subpipe_num',\n",
       "                                                  Pipeline(steps=[('ss',\n",
       "                                                                   StandardScaler())]),\n",
       "                                                  <sklearn.compose._column_transformer.make_column_selector object at 0x0000022E08D503D0>),\n",
       "                                                 ('subpipe_cat',\n",
       "                                                  Pipeline(steps=[('ohe',\n",
       "                                                                   OneHotEncoder(handle_unknown='ignore',\n",
       "                                                                                 sparse=False))]),\n",
       "                                                  <sklearn.compose._column_transformer.make_column_selector object at 0x0000022E08D50040>)])),\n",
       "                ('sm', SMOTE(random_state=42)),\n",
       "                ('rfc', RandomForestClassifier(random_state=42))])"
      ]
     },
     "execution_count": 63,
     "metadata": {},
     "output_type": "execute_result"
    }
   ],
   "source": [
    "#fit all the smoted models\n",
    "imblog_model_pipe.fit(X_train, y_train)\n",
    "imbknn_model_pipe.fit(X_train, y_train)\n",
    "imbrfc_model_pipe.fit(X_train, y_train)\n",
    "\n"
   ]
  },
  {
   "cell_type": "markdown",
   "id": "caa180c7",
   "metadata": {},
   "source": [
    "# Smoted log model score and validation score comparison"
   ]
  },
  {
   "cell_type": "code",
   "execution_count": 64,
   "id": "254504d5",
   "metadata": {},
   "outputs": [
    {
     "data": {
      "text/plain": [
       "0.7704426106526632"
      ]
     },
     "execution_count": 64,
     "metadata": {},
     "output_type": "execute_result"
    }
   ],
   "source": [
    "imblog_model_pipe.score(X_train,y_train)"
   ]
  },
  {
   "cell_type": "code",
   "execution_count": 65,
   "id": "9dc0b772",
   "metadata": {
    "scrolled": true
   },
   "outputs": [
    {
     "name": "stdout",
     "output_type": "stream",
     "text": [
      "CV Results for `smote_logreg_model` model:\n",
      "            0.76670 ± 0.01940 accuracy\n",
      "        \n"
     ]
    }
   ],
   "source": [
    "imblog_pipe_results = ModelWithCV(imblog_model_pipe, 'smote_logreg_model', X_train, y_train)\n",
    "imblog_pipe_results.print_cv_summary()"
   ]
  },
  {
   "cell_type": "markdown",
   "id": "d2d2b67b",
   "metadata": {},
   "source": [
    "Once the data has been smoted scores drop significantly for log regression"
   ]
  },
  {
   "cell_type": "markdown",
   "id": "7bce8074",
   "metadata": {},
   "source": [
    "# Smoted knn model score and validation score comparison"
   ]
  },
  {
   "cell_type": "code",
   "execution_count": 66,
   "id": "be66d7ee",
   "metadata": {},
   "outputs": [
    {
     "data": {
      "text/plain": [
       "0.886721680420105"
      ]
     },
     "execution_count": 66,
     "metadata": {},
     "output_type": "execute_result"
    }
   ],
   "source": [
    "imbknn_model_pipe.score(X_train,y_train)"
   ]
  },
  {
   "cell_type": "code",
   "execution_count": 67,
   "id": "88d994ca",
   "metadata": {
    "scrolled": false
   },
   "outputs": [
    {
     "name": "stdout",
     "output_type": "stream",
     "text": [
      "CV Results for `smote_knn_model` model:\n",
      "            0.80234 ± 0.01817 accuracy\n",
      "        \n"
     ]
    }
   ],
   "source": [
    "imbknn_pipe_results = ModelWithCV(imbknn_model_pipe, 'smote_knn_model', X_train, y_train)\n",
    "imbknn_pipe_results.print_cv_summary()"
   ]
  },
  {
   "cell_type": "markdown",
   "id": "f0ab4930",
   "metadata": {},
   "source": [
    "Heavy amount of overfitting with smoted scores will not proceed with tuning "
   ]
  },
  {
   "cell_type": "markdown",
   "id": "8b5eeb6b",
   "metadata": {},
   "source": [
    "# Smoted rfc model score and validation score comparison"
   ]
  },
  {
   "cell_type": "code",
   "execution_count": 68,
   "id": "5d179595",
   "metadata": {},
   "outputs": [
    {
     "data": {
      "text/plain": [
       "1.0"
      ]
     },
     "execution_count": 68,
     "metadata": {},
     "output_type": "execute_result"
    }
   ],
   "source": [
    "imbrfc_model_pipe.score(X_train,y_train)"
   ]
  },
  {
   "cell_type": "code",
   "execution_count": 69,
   "id": "a1f3d599",
   "metadata": {},
   "outputs": [
    {
     "name": "stdout",
     "output_type": "stream",
     "text": [
      "CV Results for `smote_rfc_model` model:\n",
      "            0.94749 ± 0.01102 accuracy\n",
      "        \n"
     ]
    }
   ],
   "source": [
    "imbrfc_pipe = ModelWithCV(imbrfc_model_pipe,'smote_rfc_model', X_train, y_train)\n",
    "imbrfc_pipe.print_cv_summary()"
   ]
  },
  {
   "cell_type": "markdown",
   "id": "2fb4e1b1",
   "metadata": {},
   "source": [
    "Decided to tune RFC and Logreg Models"
   ]
  },
  {
   "cell_type": "markdown",
   "id": "40d0238e",
   "metadata": {},
   "source": [
    "# LogReg Model Tuning Using GridSearch"
   ]
  },
  {
   "cell_type": "code",
   "execution_count": 70,
   "id": "68f460d6",
   "metadata": {
    "scrolled": true
   },
   "outputs": [
    {
     "data": {
      "text/plain": [
       "dict_keys(['C', 'class_weight', 'dual', 'fit_intercept', 'intercept_scaling', 'l1_ratio', 'max_iter', 'multi_class', 'n_jobs', 'penalty', 'random_state', 'solver', 'tol', 'verbose', 'warm_start'])"
      ]
     },
     "execution_count": 70,
     "metadata": {},
     "output_type": "execute_result"
    }
   ],
   "source": [
    "#looked at parameters for log reg\n",
    "LogisticRegression().get_params().keys()"
   ]
  },
  {
   "cell_type": "code",
   "execution_count": 71,
   "id": "f3db6cd7",
   "metadata": {},
   "outputs": [],
   "source": [
    "params = {}\n",
    "params['logreg__solver'] = ['newton-cg', 'lbfgs', 'liblinear', 'sag', 'saga']\n",
    "params['logreg__multi_class']=['auto', 'ovr', 'multinomial']\n",
    "params['logreg__max_iter']=[10000]"
   ]
  },
  {
   "cell_type": "code",
   "execution_count": 72,
   "id": "c95a71c2",
   "metadata": {},
   "outputs": [],
   "source": [
    "#created a gridsearch using smoted logmodel\n",
    "gs = GridSearchCV(imblog_model_pipe,params, cv=5)"
   ]
  },
  {
   "cell_type": "code",
   "execution_count": 73,
   "id": "db1f514f",
   "metadata": {},
   "outputs": [
    {
     "name": "stderr",
     "output_type": "stream",
     "text": [
      "C:\\Users\\Kev\\anaconda3\\envs\\learn-env\\lib\\site-packages\\sklearn\\model_selection\\_validation.py:548: FitFailedWarning: Estimator fit failed. The score on this train-test partition for these parameters will be set to nan. Details: \n",
      "Traceback (most recent call last):\n",
      "  File \"C:\\Users\\Kev\\anaconda3\\envs\\learn-env\\lib\\site-packages\\sklearn\\model_selection\\_validation.py\", line 531, in _fit_and_score\n",
      "    estimator.fit(X_train, y_train, **fit_params)\n",
      "  File \"C:\\Users\\Kev\\anaconda3\\envs\\learn-env\\lib\\site-packages\\imblearn\\pipeline.py\", line 281, in fit\n",
      "    self._final_estimator.fit(Xt, yt, **fit_params)\n",
      "  File \"C:\\Users\\Kev\\anaconda3\\envs\\learn-env\\lib\\site-packages\\sklearn\\linear_model\\_logistic.py\", line 1348, in fit\n",
      "    multi_class = _check_multi_class(self.multi_class, solver,\n",
      "  File \"C:\\Users\\Kev\\anaconda3\\envs\\learn-env\\lib\\site-packages\\sklearn\\linear_model\\_logistic.py\", line 472, in _check_multi_class\n",
      "    raise ValueError(\"Solver %s does not support \"\n",
      "ValueError: Solver liblinear does not support a multinomial backend.\n",
      "\n",
      "  warnings.warn(\"Estimator fit failed. The score on this train-test\"\n",
      "C:\\Users\\Kev\\anaconda3\\envs\\learn-env\\lib\\site-packages\\sklearn\\model_selection\\_validation.py:548: FitFailedWarning: Estimator fit failed. The score on this train-test partition for these parameters will be set to nan. Details: \n",
      "Traceback (most recent call last):\n",
      "  File \"C:\\Users\\Kev\\anaconda3\\envs\\learn-env\\lib\\site-packages\\sklearn\\model_selection\\_validation.py\", line 531, in _fit_and_score\n",
      "    estimator.fit(X_train, y_train, **fit_params)\n",
      "  File \"C:\\Users\\Kev\\anaconda3\\envs\\learn-env\\lib\\site-packages\\imblearn\\pipeline.py\", line 281, in fit\n",
      "    self._final_estimator.fit(Xt, yt, **fit_params)\n",
      "  File \"C:\\Users\\Kev\\anaconda3\\envs\\learn-env\\lib\\site-packages\\sklearn\\linear_model\\_logistic.py\", line 1348, in fit\n",
      "    multi_class = _check_multi_class(self.multi_class, solver,\n",
      "  File \"C:\\Users\\Kev\\anaconda3\\envs\\learn-env\\lib\\site-packages\\sklearn\\linear_model\\_logistic.py\", line 472, in _check_multi_class\n",
      "    raise ValueError(\"Solver %s does not support \"\n",
      "ValueError: Solver liblinear does not support a multinomial backend.\n",
      "\n",
      "  warnings.warn(\"Estimator fit failed. The score on this train-test\"\n",
      "C:\\Users\\Kev\\anaconda3\\envs\\learn-env\\lib\\site-packages\\sklearn\\model_selection\\_validation.py:548: FitFailedWarning: Estimator fit failed. The score on this train-test partition for these parameters will be set to nan. Details: \n",
      "Traceback (most recent call last):\n",
      "  File \"C:\\Users\\Kev\\anaconda3\\envs\\learn-env\\lib\\site-packages\\sklearn\\model_selection\\_validation.py\", line 531, in _fit_and_score\n",
      "    estimator.fit(X_train, y_train, **fit_params)\n",
      "  File \"C:\\Users\\Kev\\anaconda3\\envs\\learn-env\\lib\\site-packages\\imblearn\\pipeline.py\", line 281, in fit\n",
      "    self._final_estimator.fit(Xt, yt, **fit_params)\n",
      "  File \"C:\\Users\\Kev\\anaconda3\\envs\\learn-env\\lib\\site-packages\\sklearn\\linear_model\\_logistic.py\", line 1348, in fit\n",
      "    multi_class = _check_multi_class(self.multi_class, solver,\n",
      "  File \"C:\\Users\\Kev\\anaconda3\\envs\\learn-env\\lib\\site-packages\\sklearn\\linear_model\\_logistic.py\", line 472, in _check_multi_class\n",
      "    raise ValueError(\"Solver %s does not support \"\n",
      "ValueError: Solver liblinear does not support a multinomial backend.\n",
      "\n",
      "  warnings.warn(\"Estimator fit failed. The score on this train-test\"\n",
      "C:\\Users\\Kev\\anaconda3\\envs\\learn-env\\lib\\site-packages\\sklearn\\model_selection\\_validation.py:548: FitFailedWarning: Estimator fit failed. The score on this train-test partition for these parameters will be set to nan. Details: \n",
      "Traceback (most recent call last):\n",
      "  File \"C:\\Users\\Kev\\anaconda3\\envs\\learn-env\\lib\\site-packages\\sklearn\\model_selection\\_validation.py\", line 531, in _fit_and_score\n",
      "    estimator.fit(X_train, y_train, **fit_params)\n",
      "  File \"C:\\Users\\Kev\\anaconda3\\envs\\learn-env\\lib\\site-packages\\imblearn\\pipeline.py\", line 281, in fit\n",
      "    self._final_estimator.fit(Xt, yt, **fit_params)\n",
      "  File \"C:\\Users\\Kev\\anaconda3\\envs\\learn-env\\lib\\site-packages\\sklearn\\linear_model\\_logistic.py\", line 1348, in fit\n",
      "    multi_class = _check_multi_class(self.multi_class, solver,\n",
      "  File \"C:\\Users\\Kev\\anaconda3\\envs\\learn-env\\lib\\site-packages\\sklearn\\linear_model\\_logistic.py\", line 472, in _check_multi_class\n",
      "    raise ValueError(\"Solver %s does not support \"\n",
      "ValueError: Solver liblinear does not support a multinomial backend.\n",
      "\n",
      "  warnings.warn(\"Estimator fit failed. The score on this train-test\"\n",
      "C:\\Users\\Kev\\anaconda3\\envs\\learn-env\\lib\\site-packages\\sklearn\\model_selection\\_validation.py:548: FitFailedWarning: Estimator fit failed. The score on this train-test partition for these parameters will be set to nan. Details: \n",
      "Traceback (most recent call last):\n",
      "  File \"C:\\Users\\Kev\\anaconda3\\envs\\learn-env\\lib\\site-packages\\sklearn\\model_selection\\_validation.py\", line 531, in _fit_and_score\n",
      "    estimator.fit(X_train, y_train, **fit_params)\n",
      "  File \"C:\\Users\\Kev\\anaconda3\\envs\\learn-env\\lib\\site-packages\\imblearn\\pipeline.py\", line 281, in fit\n",
      "    self._final_estimator.fit(Xt, yt, **fit_params)\n",
      "  File \"C:\\Users\\Kev\\anaconda3\\envs\\learn-env\\lib\\site-packages\\sklearn\\linear_model\\_logistic.py\", line 1348, in fit\n",
      "    multi_class = _check_multi_class(self.multi_class, solver,\n",
      "  File \"C:\\Users\\Kev\\anaconda3\\envs\\learn-env\\lib\\site-packages\\sklearn\\linear_model\\_logistic.py\", line 472, in _check_multi_class\n",
      "    raise ValueError(\"Solver %s does not support \"\n",
      "ValueError: Solver liblinear does not support a multinomial backend.\n",
      "\n",
      "  warnings.warn(\"Estimator fit failed. The score on this train-test\"\n"
     ]
    },
    {
     "data": {
      "text/plain": [
       "GridSearchCV(cv=5,\n",
       "             estimator=Pipeline(steps=[('CT',\n",
       "                                        ColumnTransformer(remainder='passthrough',\n",
       "                                                          transformers=[('subpipe_num',\n",
       "                                                                         Pipeline(steps=[('ss',\n",
       "                                                                                          StandardScaler())]),\n",
       "                                                                         <sklearn.compose._column_transformer.make_column_selector object at 0x0000022E08D503D0>),\n",
       "                                                                        ('subpipe_cat',\n",
       "                                                                         Pipeline(steps=[('ohe',\n",
       "                                                                                          OneHotEncoder(handle_unknown='ignore',\n",
       "                                                                                                        sparse=False))]),\n",
       "                                                                         <sklearn.compose._column_transformer.make_column_selector object at 0x0000022E08D50040>)])),\n",
       "                                       ('sm', SMOTE(random_state=42)),\n",
       "                                       ('logreg',\n",
       "                                        LogisticRegression(random_state=42))]),\n",
       "             param_grid={'logreg__max_iter': [10000],\n",
       "                         'logreg__multi_class': ['auto', 'ovr', 'multinomial'],\n",
       "                         'logreg__solver': ['newton-cg', 'lbfgs', 'liblinear',\n",
       "                                            'sag', 'saga']})"
      ]
     },
     "execution_count": 73,
     "metadata": {},
     "output_type": "execute_result"
    }
   ],
   "source": [
    "gs.fit(X_train, y_train)"
   ]
  },
  {
   "cell_type": "code",
   "execution_count": 74,
   "id": "a25f0dd9",
   "metadata": {},
   "outputs": [
    {
     "data": {
      "text/plain": [
       "{'logreg__max_iter': 10000,\n",
       " 'logreg__multi_class': 'auto',\n",
       " 'logreg__solver': 'newton-cg'}"
      ]
     },
     "execution_count": 74,
     "metadata": {},
     "output_type": "execute_result"
    }
   ],
   "source": [
    "#got best params based on gridsearch\n",
    "gs.best_params_"
   ]
  },
  {
   "cell_type": "code",
   "execution_count": 75,
   "id": "f9a3b366",
   "metadata": {},
   "outputs": [],
   "source": [
    "#created smoted log model based on gridsearch results\n",
    "imblog_model_pipe = ImPipeline(steps=[('CT', CT),('sm',SMOTE(random_state=42)),\n",
    "                              ('logreg', LogisticRegression(random_state=42,max_iter=10000,solver='newton-cg',multi_class='auto'))])"
   ]
  },
  {
   "cell_type": "code",
   "execution_count": 76,
   "id": "63364997",
   "metadata": {
    "scrolled": true
   },
   "outputs": [
    {
     "data": {
      "text/plain": [
       "Pipeline(steps=[('CT',\n",
       "                 ColumnTransformer(remainder='passthrough',\n",
       "                                   transformers=[('subpipe_num',\n",
       "                                                  Pipeline(steps=[('ss',\n",
       "                                                                   StandardScaler())]),\n",
       "                                                  <sklearn.compose._column_transformer.make_column_selector object at 0x0000022E08D503D0>),\n",
       "                                                 ('subpipe_cat',\n",
       "                                                  Pipeline(steps=[('ohe',\n",
       "                                                                   OneHotEncoder(handle_unknown='ignore',\n",
       "                                                                                 sparse=False))]),\n",
       "                                                  <sklearn.compose._column_transformer.make_column_selector object at 0x0000022E08D50040>)])),\n",
       "                ('sm', SMOTE(random_state=42)),\n",
       "                ('logreg',\n",
       "                 LogisticRegression(max_iter=10000, random_state=42,\n",
       "                                    solver='newton-cg'))])"
      ]
     },
     "execution_count": 76,
     "metadata": {},
     "output_type": "execute_result"
    }
   ],
   "source": [
    "imblog_model_pipe.fit(X_train, y_train)"
   ]
  },
  {
   "cell_type": "code",
   "execution_count": 77,
   "id": "9cbdabaa",
   "metadata": {},
   "outputs": [
    {
     "data": {
      "text/plain": [
       "0.7704426106526632"
      ]
     },
     "execution_count": 77,
     "metadata": {},
     "output_type": "execute_result"
    }
   ],
   "source": [
    "#model score\n",
    "imblog_model_pipe.score(X_train,y_train)"
   ]
  },
  {
   "cell_type": "code",
   "execution_count": 78,
   "id": "a523fd58",
   "metadata": {
    "scrolled": true
   },
   "outputs": [
    {
     "name": "stdout",
     "output_type": "stream",
     "text": [
      "CV Results for `logreg_model` model:\n",
      "            0.76670 ± 0.01940 accuracy\n",
      "        \n"
     ]
    }
   ],
   "source": [
    "#cross validating model score\n",
    "imb_log_results = ModelWithCV(imblog_model_pipe, 'logreg_model', X_train, y_train)\n",
    "imb_log_results.print_cv_summary()"
   ]
  },
  {
   "cell_type": "markdown",
   "id": "11416feb",
   "metadata": {},
   "source": [
    "Tuning parameters did not change outcome of results will. Moving forward to tune the rfc model"
   ]
  },
  {
   "cell_type": "markdown",
   "id": "e75e78cf",
   "metadata": {},
   "source": [
    "# RFC Model Tuning Using RandomsearchCV"
   ]
  },
  {
   "cell_type": "code",
   "execution_count": 79,
   "id": "1e0edea1",
   "metadata": {},
   "outputs": [
    {
     "data": {
      "text/plain": [
       "dict_keys(['bootstrap', 'ccp_alpha', 'class_weight', 'criterion', 'max_depth', 'max_features', 'max_leaf_nodes', 'max_samples', 'min_impurity_decrease', 'min_impurity_split', 'min_samples_leaf', 'min_samples_split', 'min_weight_fraction_leaf', 'n_estimators', 'n_jobs', 'oob_score', 'random_state', 'verbose', 'warm_start'])"
      ]
     },
     "execution_count": 79,
     "metadata": {},
     "output_type": "execute_result"
    }
   ],
   "source": [
    "RandomForestClassifier().get_params().keys()"
   ]
  },
  {
   "cell_type": "code",
   "execution_count": 80,
   "id": "1d69fd8d",
   "metadata": {},
   "outputs": [],
   "source": [
    "#Specified ranges for different parameters\n",
    "params = {}\n",
    "params['rfc__criterion'] = [\"gini\", \"entropy\"]\n",
    "params['rfc__n_estimators'] = [int(x) for x in np.linspace(start = 200, stop = 2000, num = 10)]\n",
    "params['rfc__max_features']= ['auto', 'sqrt']\n",
    "params['rfc__max_depth'] = [5,8,11,15]\n",
    "params['rfc__min_samples_split'] = [2, 5, 10]\n",
    "params['rfc__min_samples_leaf'] = [1, 2, 4]\n",
    "params['rfc__bootstrap']=[True, False]\n"
   ]
  },
  {
   "cell_type": "code",
   "execution_count": 81,
   "id": "3ea87b7c",
   "metadata": {
    "scrolled": true
   },
   "outputs": [
    {
     "data": {
      "text/plain": [
       "RandomizedSearchCV(cv=3,\n",
       "                   estimator=Pipeline(steps=[('CT',\n",
       "                                              ColumnTransformer(remainder='passthrough',\n",
       "                                                                transformers=[('subpipe_num',\n",
       "                                                                               Pipeline(steps=[('ss',\n",
       "                                                                                                StandardScaler())]),\n",
       "                                                                               <sklearn.compose._column_transformer.make_column_selector object at 0x0000022E08D503D0>),\n",
       "                                                                              ('subpipe_cat',\n",
       "                                                                               Pipeline(steps=[('ohe',\n",
       "                                                                                                OneHotEncoder(handle_unknown='ignore',\n",
       "                                                                                                              sparse=False))]),\n",
       "                                                                               <s...\n",
       "                                             ('sm', SMOTE(random_state=42)),\n",
       "                                             ('rfc',\n",
       "                                              RandomForestClassifier(random_state=42))]),\n",
       "                   param_distributions={'rfc__bootstrap': [True, False],\n",
       "                                        'rfc__criterion': ['gini', 'entropy'],\n",
       "                                        'rfc__max_depth': [5, 8, 11, 15],\n",
       "                                        'rfc__max_features': ['auto', 'sqrt'],\n",
       "                                        'rfc__min_samples_leaf': [1, 2, 4],\n",
       "                                        'rfc__min_samples_split': [2, 5, 10],\n",
       "                                        'rfc__n_estimators': [200, 400, 600,\n",
       "                                                              800, 1000, 1200,\n",
       "                                                              1400, 1600, 1800,\n",
       "                                                              2000]})"
      ]
     },
     "execution_count": 81,
     "metadata": {},
     "output_type": "execute_result"
    }
   ],
   "source": [
    "# used randomized search cv to get params\n",
    "rfc_random = RandomizedSearchCV(imbrfc_model_pipe,params,cv=3)\n",
    "rfc_random.fit(X_train,y_train)"
   ]
  },
  {
   "cell_type": "code",
   "execution_count": 82,
   "id": "75891326",
   "metadata": {
    "scrolled": false
   },
   "outputs": [
    {
     "data": {
      "text/plain": [
       "{'rfc__n_estimators': 1200,\n",
       " 'rfc__min_samples_split': 2,\n",
       " 'rfc__min_samples_leaf': 2,\n",
       " 'rfc__max_features': 'auto',\n",
       " 'rfc__max_depth': 15,\n",
       " 'rfc__criterion': 'entropy',\n",
       " 'rfc__bootstrap': False}"
      ]
     },
     "execution_count": 82,
     "metadata": {},
     "output_type": "execute_result"
    }
   ],
   "source": [
    "rfc_random.best_params_"
   ]
  },
  {
   "cell_type": "markdown",
   "id": "e82ee7bb",
   "metadata": {},
   "source": [
    "First Random model"
   ]
  },
  {
   "cell_type": "code",
   "execution_count": 83,
   "id": "9e939152",
   "metadata": {},
   "outputs": [],
   "source": [
    "randrfc_model = ImPipeline(steps=[\n",
    "    ('ct',CT),\n",
    "    ('sm',SMOTE(random_state=42)),\n",
    "    ('rfc', RandomForestClassifier(n_estimators=1000,min_samples_split=10,min_samples_leaf=2,max_features= 'sqrt',max_depth=80,bootstrap = False))\n",
    "])"
   ]
  },
  {
   "cell_type": "markdown",
   "id": "9f50e6a7",
   "metadata": {},
   "source": [
    "Second Random Model (Greatly reduced depth)"
   ]
  },
  {
   "cell_type": "code",
   "execution_count": 84,
   "id": "5e7f8145",
   "metadata": {},
   "outputs": [],
   "source": [
    "randrfc_model2 = ImPipeline(steps=[\n",
    "    ('ct',CT),\n",
    "    ('sm',SMOTE(random_state=42)),\n",
    "    ('rfc', RandomForestClassifier(n_estimators=600,min_samples_split=10,min_samples_leaf=4,max_features= 'sqrt',max_depth=12,bootstrap = False,criterion='entropy'))\n",
    "])"
   ]
  },
  {
   "cell_type": "code",
   "execution_count": 85,
   "id": "3078f449",
   "metadata": {
    "scrolled": true
   },
   "outputs": [
    {
     "data": {
      "text/plain": [
       "Pipeline(steps=[('ct',\n",
       "                 ColumnTransformer(remainder='passthrough',\n",
       "                                   transformers=[('subpipe_num',\n",
       "                                                  Pipeline(steps=[('ss',\n",
       "                                                                   StandardScaler())]),\n",
       "                                                  <sklearn.compose._column_transformer.make_column_selector object at 0x0000022E08D503D0>),\n",
       "                                                 ('subpipe_cat',\n",
       "                                                  Pipeline(steps=[('ohe',\n",
       "                                                                   OneHotEncoder(handle_unknown='ignore',\n",
       "                                                                                 sparse=False))]),\n",
       "                                                  <sklearn.compose._column_transformer.make_column_selector object at 0x0000022E08D50040>)])),\n",
       "                ('sm', SMOTE(random_state=42)),\n",
       "                ('rfc',\n",
       "                 RandomForestClassifier(bootstrap=False, criterion='entropy',\n",
       "                                        max_depth=12, max_features='sqrt',\n",
       "                                        min_samples_leaf=4,\n",
       "                                        min_samples_split=10,\n",
       "                                        n_estimators=600))])"
      ]
     },
     "execution_count": 85,
     "metadata": {},
     "output_type": "execute_result"
    }
   ],
   "source": [
    "randrfc_model.fit(X_train, y_train)\n",
    "randrfc_model2.fit(X_train, y_train)"
   ]
  },
  {
   "cell_type": "code",
   "execution_count": 86,
   "id": "e423fc1b",
   "metadata": {
    "scrolled": false
   },
   "outputs": [
    {
     "name": "stdout",
     "output_type": "stream",
     "text": [
      "0.9962490622655664\n",
      "0.9849962490622656\n"
     ]
    }
   ],
   "source": [
    "#Selecting model 2 as final model\n",
    "print(randrfc_model.score(X_train,y_train))\n",
    "print(randrfc_model2.score(X_train,y_train))"
   ]
  },
  {
   "cell_type": "markdown",
   "id": "32c13134",
   "metadata": {},
   "source": [
    "# Final Tuned RFC model"
   ]
  },
  {
   "cell_type": "code",
   "execution_count": 87,
   "id": "267f74f0",
   "metadata": {},
   "outputs": [],
   "source": [
    "randrfc_final_model = randrfc_model2"
   ]
  },
  {
   "cell_type": "markdown",
   "id": "37aaf3e7",
   "metadata": {},
   "source": [
    "Train Scores against validation"
   ]
  },
  {
   "cell_type": "code",
   "execution_count": 88,
   "id": "5262d270",
   "metadata": {},
   "outputs": [
    {
     "data": {
      "text/plain": [
       "0.9849962490622656"
      ]
     },
     "execution_count": 88,
     "metadata": {},
     "output_type": "execute_result"
    }
   ],
   "source": [
    "randrfc_final_model.score(X_train,y_train)"
   ]
  },
  {
   "cell_type": "code",
   "execution_count": 89,
   "id": "acbf5a40",
   "metadata": {
    "scrolled": true
   },
   "outputs": [
    {
     "name": "stdout",
     "output_type": "stream",
     "text": [
      "CV Results for `rfc_final` model:\n",
      "            0.95386 ± 0.00718 accuracy\n",
      "        \n",
      "None\n"
     ]
    }
   ],
   "source": [
    "randrfc_final_model_results = ModelWithCV(randrfc_final_model, 'rfc_final', X_train, y_train)\n",
    "print(randrfc_final_model_results.print_cv_summary())"
   ]
  },
  {
   "cell_type": "markdown",
   "id": "2ae1c891",
   "metadata": {},
   "source": [
    "Test Scores against validation"
   ]
  },
  {
   "cell_type": "code",
   "execution_count": 90,
   "id": "87d94342",
   "metadata": {},
   "outputs": [
    {
     "data": {
      "text/plain": [
       "0.9460269865067467"
      ]
     },
     "execution_count": 90,
     "metadata": {},
     "output_type": "execute_result"
    }
   ],
   "source": [
    "#Test score\n",
    "randrfc_final_model.score(X_test,y_test)"
   ]
  },
  {
   "cell_type": "code",
   "execution_count": 91,
   "id": "b99ec58c",
   "metadata": {},
   "outputs": [
    {
     "name": "stdout",
     "output_type": "stream",
     "text": [
      "CV Results for `rfc_final` model:\n",
      "            0.92501 ± 0.02017 accuracy\n",
      "        \n",
      "None\n"
     ]
    }
   ],
   "source": [
    "#Test validation score\n",
    "randrfc_final_model_results = ModelWithCV(randrfc_final_model, 'rfc_final', X_test, y_test)\n",
    "print(randrfc_final_model_results.print_cv_summary())"
   ]
  },
  {
   "cell_type": "markdown",
   "id": "2dbff09c",
   "metadata": {},
   "source": [
    "Trained Model Confusion matrix"
   ]
  },
  {
   "cell_type": "code",
   "execution_count": 92,
   "id": "f8aa8009",
   "metadata": {
    "scrolled": false
   },
   "outputs": [
    {
     "data": {
      "image/png": "[encoded data removed]",
      "text/plain": [
       "<Figure size 432x288 with 2 Axes>"
      ]
     },
     "metadata": {
      "needs_background": "light"
     },
     "output_type": "display_data"
    }
   ],
   "source": [
    "fig, ax = plt.subplots()\n",
    "\n",
    "fig.suptitle(\"Tuned Random Forest\")\n",
    "\n",
    "plot_confusion_matrix(randrfc_final_model, X_train, y_train, ax=ax, cmap=\"plasma\");"
   ]
  },
  {
   "cell_type": "markdown",
   "id": "b5be2750",
   "metadata": {},
   "source": [
    "Test Model Confusion Matrix"
   ]
  },
  {
   "cell_type": "code",
   "execution_count": 93,
   "id": "1689cbbb",
   "metadata": {
    "scrolled": false
   },
   "outputs": [
    {
     "data": {
      "image/png": "[encoded data removed]",
      "text/plain": [
       "<Figure size 432x288 with 2 Axes>"
      ]
     },
     "metadata": {
      "needs_background": "light"
     },
     "output_type": "display_data"
    }
   ],
   "source": [
    "fig, ax = plt.subplots()\n",
    "\n",
    "fig.suptitle(\"Tuned Random Forest\")\n",
    "\n",
    "plot_confusion_matrix(randrfc_final_model, X_test, y_test, ax=ax, cmap=\"plasma\");"
   ]
  },
  {
   "cell_type": "markdown",
   "id": "6af9c4ab",
   "metadata": {},
   "source": [
    "Trained model ROC curve"
   ]
  },
  {
   "cell_type": "code",
   "execution_count": 94,
   "id": "2a7886b8",
   "metadata": {
    "scrolled": true
   },
   "outputs": [
    {
     "data": {
      "image/png": "[encoded data removed]",
      "text/plain": [
       "<Figure size 432x288 with 1 Axes>"
      ]
     },
     "metadata": {
      "needs_background": "light"
     },
     "output_type": "display_data"
    }
   ],
   "source": [
    "plot_roc_curve(randrfc_final_model, X_train, y_train);"
   ]
  },
  {
   "cell_type": "markdown",
   "id": "71e11e5a",
   "metadata": {},
   "source": [
    "Test Model ROC curve"
   ]
  },
  {
   "cell_type": "code",
   "execution_count": 95,
   "id": "e5297810",
   "metadata": {
    "scrolled": true
   },
   "outputs": [
    {
     "data": {
      "image/png": "[encoded data removed]",
      "text/plain": [
       "<Figure size 432x288 with 1 Axes>"
      ]
     },
     "metadata": {
      "needs_background": "light"
     },
     "output_type": "display_data"
    }
   ],
   "source": [
    "plot_roc_curve(randrfc_final_model, X_test, y_test);"
   ]
  },
  {
   "cell_type": "code",
   "execution_count": 96,
   "id": "bf89b3d2",
   "metadata": {},
   "outputs": [],
   "source": [
    "#Test set predictions\n",
    "y_hat = randrfc_model2.predict(X_test)"
   ]
  },
  {
   "cell_type": "code",
   "execution_count": 97,
   "id": "f38aa64c",
   "metadata": {
    "scrolled": false
   },
   "outputs": [
    {
     "name": "stdout",
     "output_type": "stream",
     "text": [
      "\n",
      "Our rfc_final model's accuracy on the test set is 0.95. \n",
      "\n",
      "Our rfc_final model's recall on the test set is 0.78 \n",
      "\n",
      "Our rfc_final model's precision on the test set is 0.85 \n",
      "\n",
      "Our rfc_final model's f1-score on the test is 0.81.\n",
      "\n"
     ]
    }
   ],
   "source": [
    "#Test set prediction scores\n",
    "print(f\"\"\"\n",
    "Our rfc_final model's accuracy on the test set is {round(accuracy_score(y_test, y_hat), 2)}. \\n\n",
    "Our rfc_final model's recall on the test set is {round(recall_score(y_test, y_hat), 2)} \\n\n",
    "Our rfc_final model's precision on the test set is {round(precision_score(y_test, y_hat), 2)} \\n\n",
    "Our rfc_final model's f1-score on the test is {round(f1_score(y_test, y_hat), 2)}.\n",
    "\"\"\")"
   ]
  },
  {
   "cell_type": "code",
   "execution_count": 98,
   "id": "e3e1aac1",
   "metadata": {},
   "outputs": [],
   "source": [
    "scores_x =['accuracy','precision','f1-score','recall']\n",
    "scores_y =[.95,.85,.81,.78]"
   ]
  },
  {
   "cell_type": "code",
   "execution_count": 99,
   "id": "f06569c5",
   "metadata": {
    "scrolled": true
   },
   "outputs": [
    {
     "data": {
      "text/plain": [
       "{'account_length': 0.017750407438388256,\n",
       " 'international_plan': 0.01824261561226125,\n",
       " 'voice_mail_plan': 0.1268647844949261,\n",
       " 'number_vmail_messages': 0.019333445386749446,\n",
       " 'total_day_minutes': 0.11986821411977085,\n",
       " 'total_day_calls': 0.04942666754497919,\n",
       " 'total_day_charge': 0.015556661747067943,\n",
       " 'total_eve_minutes': 0.04900992602506579,\n",
       " 'total_eve_calls': 0.02914013780774859,\n",
       " 'total_eve_charge': 0.018073633134992335,\n",
       " 'total_night_minutes': 0.029076759660358678,\n",
       " 'total_night_calls': 0.03336375077755536,\n",
       " 'total_night_charge': 0.06860501522072436,\n",
       " 'total_intl_minutes': 0.030502888999527446,\n",
       " 'total_intl_calls': 0.17870215492973715,\n",
       " 'total_intl_charge': 0.07940241592914987,\n",
       " 'customer_service_calls': 0.08113210566190523}"
      ]
     },
     "execution_count": 99,
     "metadata": {},
     "output_type": "execute_result"
    }
   ],
   "source": [
    "randrfc_model2[2].feature_importances_\n",
    "feat_import = {name: score \n",
    "                   for name, score\n",
    "                       in zip(X_train.columns, randrfc_model2[2].feature_importances_)\n",
    "}\n",
    "feat_import"
   ]
  },
  {
   "cell_type": "code",
   "execution_count": 100,
   "id": "b1c12df6",
   "metadata": {},
   "outputs": [],
   "source": [
    "values = []\n",
    "keys = []\n",
    "for x in feat_import:\n",
    "    if feat_import[x] > .06:\n",
    "        keys.append(x)\n",
    "        values.append(feat_import[x])"
   ]
  },
  {
   "cell_type": "code",
   "execution_count": 101,
   "id": "ddbb43b1",
   "metadata": {
    "scrolled": true
   },
   "outputs": [
    {
     "data": {
      "text/plain": [
       "[0.17870215492973715,\n",
       " 0.1268647844949261,\n",
       " 0.11986821411977085,\n",
       " 0.08113210566190523,\n",
       " 0.07940241592914987,\n",
       " 0.06860501522072436]"
      ]
     },
     "execution_count": 101,
     "metadata": {},
     "output_type": "execute_result"
    }
   ],
   "source": [
    "values= sorted(values,reverse=True)\n",
    "values"
   ]
  },
  {
   "cell_type": "code",
   "execution_count": 102,
   "id": "fb029e30",
   "metadata": {},
   "outputs": [],
   "source": [
    "keys = ['total intl calls','total day minutes','voicemail plan','total intl charge','customer service calls','total night charge']"
   ]
  },
  {
   "cell_type": "code",
   "execution_count": 104,
   "id": "d82e3e4c",
   "metadata": {},
   "outputs": [
    {
     "data": {
      "image/png": "[encoded data removed]",
      "text/plain": [
       "<Figure size 720x720 with 1 Axes>"
      ]
     },
     "metadata": {
      "needs_background": "light"
     },
     "output_type": "display_data"
    }
   ],
   "source": [
    "fig, ax = plt.subplots(figsize=(10,10))\n",
    "ax.bar(keys,values)\n",
    "\n",
    "plt.xticks(rotation=45,size=15)\n",
    "plt.title('Importance by Feature',size=20)\n",
    "plt.xlabel('Feature',size=20)\n",
    "plt.ylabel('Importance Level',size=20);"
   ]
  },
  {
   "cell_type": "code",
   "execution_count": 109,
   "id": "9ac3970b",
   "metadata": {},
   "outputs": [],
   "source": [
    "scores_x =['accuracy','precision','f1-score','recall']\n",
    "scores_y =[.95,.85,.81,.78]"
   ]
  },
  {
   "cell_type": "code",
   "execution_count": 110,
   "id": "7b5a4ffb",
   "metadata": {},
   "outputs": [
    {
     "data": {
      "image/png": "[encoded data removed]",
      "text/plain": [
       "<Figure size 720x720 with 1 Axes>"
      ]
     },
     "metadata": {
      "needs_background": "light"
     },
     "output_type": "display_data"
    }
   ],
   "source": [
    "fig, ax = plt.subplots(figsize=(10,10))\n",
    "ax.bar(scores_x,scores_y)\n",
    "\n",
    "plt.xticks(rotation=45,size=15)\n",
    "plt.title('RFC Model Scores',size=20)\n",
    "plt.xlabel('Score Type',size=20)\n",
    "plt.ylabel('Score',size=20)\n",
    "plt.ylim( [0,1] );"
   ]
  },
  {
   "cell_type": "code",
   "execution_count": null,
   "id": "e461eeaf",
   "metadata": {},
   "outputs": [],
   "source": []
  }
 ],
 "metadata": {
  "kernelspec": {
   "display_name": "Python (learn-env)",
   "language": "python",
   "name": "learn-env"
  },
  "language_info": {
   "codemirror_mode": {
    "name": "ipython",
    "version": 3
   },
   "file_extension": ".py",
   "mimetype": "text/x-python",
   "name": "python",
   "nbconvert_exporter": "python",
   "pygments_lexer": "ipython3",
   "version": "3.8.5"
  }
 },
 "nbformat": 4,
 "nbformat_minor": 5
}
